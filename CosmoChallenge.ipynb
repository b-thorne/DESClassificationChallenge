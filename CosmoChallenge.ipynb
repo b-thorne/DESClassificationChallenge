{
 "cells": [
  {
   "cell_type": "code",
   "execution_count": 34,
   "id": "8de10b76-f84c-4293-af15-4f57954d2af7",
   "metadata": {},
   "outputs": [],
   "source": [
    "import torch\n",
    "import astropy as ap\n",
    "import numpy as np\n",
    "import matplotlib.pyplot as plt\n",
    "from astropy.io import fits\n",
    "import pandas as pd"
   ]
  },
  {
   "cell_type": "code",
   "execution_count": 35,
   "id": "23ca880a-e450-48c6-bea0-cfd4b83270e7",
   "metadata": {},
   "outputs": [
    {
     "name": "stderr",
     "output_type": "stream",
     "text": [
      "/opt/conda/lib/python3.6/site-packages/IPython/core/interactiveshell.py:3072: DtypeWarning: Columns (0,1) have mixed types. Specify dtype option on import or set low_memory=False.\n",
      "  interactivity=interactivity, compiler=compiler, result=result)\n"
     ]
    }
   ],
   "source": [
    "filename = '/global/cfs/cdirs/m4287/cosmology/dessn/autoscan_features.3.csv'\n",
    "\n",
    "df = pd.read_csv(filename, skiprows=6, usecols=[0, 1], header=None, names=['ID', 'OBJECT_TYPE'])\n",
    "data = dict(zip(df['ID'], df['OBJECT_TYPE']))"
   ]
  },
  {
   "cell_type": "code",
   "execution_count": 24,
   "id": "70660c47-1082-44d3-8df7-501433dc5e57",
   "metadata": {},
   "outputs": [],
   "source": [
    "hdu = fits.open(\"/global/cfs/cdirs/m4287/cosmology/dessn/stamps/stamps_1/home2/SNWG/Archive/2013/Y1/20131117/485464256/diff9608733.fits\")"
   ]
  },
  {
   "cell_type": "code",
   "execution_count": 41,
   "id": "94ee670f-4c93-4770-9966-6e7155549521",
   "metadata": {},
   "outputs": [
    {
     "name": "stdout",
     "output_type": "stream",
     "text": [
      "/global/u1/b/bthorne/projects\n"
     ]
    }
   ],
   "source": [
    "!pwd"
   ]
  },
  {
   "cell_type": "code",
   "execution_count": 26,
   "id": "9c34d5b0-142b-4fda-8b95-fd2eb7b58e32",
   "metadata": {},
   "outputs": [
    {
     "name": "stdout",
     "output_type": "stream",
     "text": [
      "Filename: /global/cfs/cdirs/m4287/cosmology/dessn/stamps/stamps_1/home2/SNWG/Archive/2013/Y1/20131117/485464256/diff9608733.fits\n",
      "No.    Name      Ver    Type      Cards   Dimensions   Format\n",
      "  0  PRIMARY       1 PrimaryHDU      46   (51, 51)   float32   \n"
     ]
    }
   ],
   "source": [
    "hdu.info()"
   ]
  },
  {
   "cell_type": "code",
   "execution_count": 27,
   "id": "a03ebbcc-83a2-4201-b8f2-2e87974bf60a",
   "metadata": {},
   "outputs": [
    {
     "name": "stdout",
     "output_type": "stream",
     "text": [
      "SIMPLE   : True\n",
      "BITPIX   : -32\n",
      "NAXIS    : 2\n",
      "NAXIS1   : 51\n",
      "NAXIS2   : 51\n",
      "EXTEND   : True\n",
      "COMMENT  :   FITS (Flexible Image Transport System) format is defined in 'Astronomy\n",
      "COMMENT  :   and Astrophysics', volume 376, page 359; bibcode: 2001A&A...376..359H\n",
      "EXPTIME  : 200.0\n",
      "DATE-OBS : 2013-11-18T01:51:39.695221\n",
      "TIME-OBS : 01:51:39.695221\n",
      "MJD-OBS  : 56614.07754277\n",
      "EXPNUM   : 255451\n",
      "FILTER   : i DECam SDSS c0003 7835.0 1470.0\n",
      "CRPIX1   : 2859.6\n",
      "CRPIX2   : 3799.667\n",
      "PV1_7    : -0.004429008543732\n",
      "PV2_8    : 0.004111165603317\n",
      "PV2_9    : -0.004599195150925\n",
      "CD1_1    : -1.073542783269e-08\n",
      "PV2_0    : -9.992789416838e-07\n",
      "PV2_1    : 1.000507356853\n",
      "PV2_2    : 4.462963928946e-05\n",
      "PV2_3    : 0.0\n",
      "PV2_4    : 0.02148572857372\n",
      "PV2_5    : -0.001590013309706\n",
      "PV2_6    : -0.0007962251228669\n",
      "PV2_7    : -0.03240703441754\n",
      "PV1_6    : -0.003515850199915\n",
      "PV2_10   : -0.001927759163939\n",
      "PV1_4    : -0.0004865700576489\n",
      "PV1_3    : 0.0\n",
      "PV1_2    : 0.0007126777821658\n",
      "PV1_1    : 1.005716767439\n",
      "PV1_0    : 0.0002577290433755\n",
      "PV1_9    : -0.0005162707553548\n",
      "PV1_8    : 0.002012600715264\n",
      "CD1_2    : 7.286456446245e-05\n",
      "PV1_5    : -0.0008886751551017\n",
      "CD2_1    : -7.285250226895e-05\n",
      "CD2_2    : -3.977532883613e-09\n",
      "PV1_10   : 0.004944295279781\n",
      "CTYPE2   : DEC--TPV\n",
      "CTYPE1   : RA---TPV\n",
      "CRVAL1   : 54.27581231199\n",
      "CRVAL2   : -27.11412689851\n"
     ]
    }
   ],
   "source": [
    "header = hdu[0].header\n",
    "for keyword, value in header.items():\n",
    "    print(f'{keyword:8s} : {value}')"
   ]
  },
  {
   "cell_type": "code",
   "execution_count": 28,
   "id": "ed1cd593-fbe8-4078-b6a8-7c03092910c3",
   "metadata": {},
   "outputs": [
    {
     "data": {
      "text/plain": [
       "(51, 51)"
      ]
     },
     "execution_count": 28,
     "metadata": {},
     "output_type": "execute_result"
    }
   ],
   "source": [
    "hdu[0].data.shape"
   ]
  },
  {
   "cell_type": "code",
   "execution_count": 29,
   "id": "e25c81b1-2b8e-40b8-aac4-4799bed7a114",
   "metadata": {},
   "outputs": [
    {
     "data": {
      "text/plain": [
       "<matplotlib.image.AxesImage at 0x7fe2c5062ef0>"
      ]
     },
     "execution_count": 29,
     "metadata": {},
     "output_type": "execute_result"
    },
    {
     "data": {
      "image/png": "[encoded data removed]",
      "text/plain": [
       "<Figure size 432x288 with 1 Axes>"
      ]
     },
     "metadata": {
      "needs_background": "light"
     },
     "output_type": "display_data"
    }
   ],
   "source": [
    "plt.imshow(hdu[0].data)"
   ]
  },
  {
   "cell_type": "code",
   "execution_count": 31,
   "id": "31790ce3-2f61-4ab2-ad04-c0da769bf35d",
   "metadata": {},
   "outputs": [
    {
     "name": "stdout",
     "output_type": "stream",
     "text": [
      "Collecting package metadata (current_repodata.json): done\n",
      "Solving environment: failed with initial frozen solve. Retrying with flexible solve.\n",
      "Solving environment: failed with repodata from current_repodata.json, will retry with next repodata source.\n",
      "Collecting package metadata (repodata.json): done\n",
      "Solving environment: done\n",
      "\n",
      "\n",
      "==> WARNING: A newer version of conda exists. <==\n",
      "  current version: 4.10.3\n",
      "  latest version: 23.3.1\n",
      "\n",
      "Please update conda by running\n",
      "\n",
      "    $ conda update -n base -c defaults conda\n",
      "\n",
      "\n",
      "\n",
      "## Package Plan ##\n",
      "\n",
      "  environment location: /opt/conda\n",
      "\n",
      "  added / updated specs:\n",
      "    - pandas\n",
      "\n",
      "\n",
      "The following packages will be downloaded:\n",
      "\n",
      "    package                    |            build\n",
      "    ---------------------------|-----------------\n",
      "    pandas-1.1.5               |   py36ha9443f7_0         8.2 MB\n",
      "    ------------------------------------------------------------\n",
      "                                           Total:         8.2 MB\n",
      "\n",
      "The following NEW packages will be INSTALLED:\n",
      "\n",
      "  pandas             pkgs/main/linux-64::pandas-1.1.5-py36ha9443f7_0\n",
      "\n",
      "\n",
      "\n",
      "Downloading and Extracting Packages\n",
      "pandas-1.1.5         | 8.2 MB    | ##################################### | 100% \n",
      "Preparing transaction: done\n",
      "Verifying transaction: failed\n",
      "\n",
      "EnvironmentNotWritableError: The current user does not have write permissions to the target environment.\n",
      "  environment location: /opt/conda\n",
      "  uid: 71658\n",
      "  gid: 71658\n",
      "\n",
      "\n"
     ]
    }
   ],
   "source": [
    "!conda install -y pandas"
   ]
  },
  {
   "cell_type": "code",
   "execution_count": null,
   "id": "a6a11656-0d30-4b2b-8418-42d25ac6e975",
   "metadata": {},
   "outputs": [],
   "source": [
    "y\n"
   ]
  }
 ],
 "metadata": {
  "kernelspec": {
   "display_name": "fairuniverse",
   "language": "python",
   "name": "fairuniverse"
  },
  "language_info": {
   "codemirror_mode": {
    "name": "ipython",
    "version": 3
   },
   "file_extension": ".py",
   "mimetype": "text/x-python",
   "name": "python",
   "nbconvert_exporter": "python",
   "pygments_lexer": "ipython3",
   "version": "3.6.10"
  }
 },
 "nbformat": 4,
 "nbformat_minor": 5
}
